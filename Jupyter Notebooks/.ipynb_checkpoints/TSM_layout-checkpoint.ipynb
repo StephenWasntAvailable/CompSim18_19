{
 "cells": [
  {
   "cell_type": "markdown",
   "metadata": {},
   "source": [
    "## Travelling salesman\n",
    "\n",
    "Code to try and find a solution to the travelling salesman problem on the globe using object-oriented simulated annealing"
   ]
  },
  {
   "cell_type": "code",
   "execution_count": 1,
   "metadata": {},
   "outputs": [],
   "source": [
    "import numpy as np\n",
    "import matplotlib.pyplot as plt\n",
    "import numpy.random as random\n",
    "\n",
    "import csv\n",
    "import smopy\n",
    "\n",
    "#smopy tile server and basic options\n",
    "smopy.TILE_SERVER = \"http://tile.basemaps.cartocdn.com/light_all/{z}/{x}/{y}@2x.png\"\n",
    "smopy.TILE_SIZE = 512\n",
    "worldmap = smopy.Map((0, -120, 65, 120), z=2)"
   ]
  },
  {
   "cell_type": "code",
   "execution_count": 19,
   "metadata": {},
   "outputs": [],
   "source": [
    "class CityInfo:\n",
    "    '''For cities for use in traveling salesman problem. Class stores name of city, country city is in, population, \n",
    "    lattitude and longitude'''\n",
    "    def __init__(self, name, country, population, lat, lon):\n",
    "        self.name = name\n",
    "        self.country = country\n",
    "        self.population = population\n",
    "        self.lat = lat\n",
    "        self.lon = lon\n",
    "        \n",
    "    \n",
    "    \n",
    "    \n",
    "class SalesmanAnneal:\n",
    "    '''Solves the TSM problem using a simulated annealing approach'''\n",
    "    \n",
    "    def __init__(self, cities, basemap=worldmap ):\n",
    "        '''initialise the solver, loads city coordinates/names from arguments \n",
    "        cities argument should be a list generated from using the citysampling function'''\n",
    "        self.cities = cities\n",
    "                    \n",
    "        self.basemap = basemap\n",
    "                    \n",
    "\n",
    "                \n",
    "    \n",
    "    def create_first_guess(self):\n",
    "        '''Random sequence of cities'''\n",
    "        \n",
    "        \n",
    "    #def fitness(self, grid):\n",
    "        '''returns the \"fitness\", i.e. total RETURN path length.'''\n",
    "    \n",
    "    \n",
    "    #def anneal(self):\n",
    "        '''simulated annealing to find solution'''\n",
    "        \n",
    "        # loop until stopping conditions are met\n",
    "        #while  ?????:\n",
    "            \n",
    "            # generate a new candidate solution\n",
    "            \n",
    "            # accept the new candidate?\n",
    "            \n",
    "            # update conditions\n",
    "            \n",
    "            \n",
    "    \n",
    "    #def accept(self, candidate):\n",
    "        '''sets the acceptance rules for a new candidate'''\n",
    "                \n",
    "                \n",
    "    #def print_grid(self, route):\n",
    "        '''Outputs a pretty map showing a particular route'''\n",
    "               \n",
    "    #other methods (e.g. GCD between two points, path route....)\n",
    "    "
   ]
  },
  {
   "cell_type": "code",
   "execution_count": 85,
   "metadata": {},
   "outputs": [],
   "source": [
    "def citysampling(numcities):\n",
    "        with open('simplemaps-worldcities-basic.csv') as csvfile:\n",
    "            readCSV = csv.reader(csvfile, delimiter=',')\n",
    "            #skip the first line, which contains the legend\n",
    "            next(readCSV)\n",
    "            numlines = 7322  #sum(1 for line in readCSV)\n",
    "            #print(numlines)\n",
    "            chance_selected = numcities / numlines\n",
    "            #print(chance_selected)\n",
    "            cities = []\n",
    "            for row in readCSV:\n",
    "                if random.random() < chance_selected:\n",
    "                    name = row[1]\n",
    "                    latitude = float(row[2])\n",
    "                    longitude = float(row[3])\n",
    "                    pop = int(float((row[4]))) \n",
    "                    country = row[5]\n",
    "                    citytemp = CityInfo(name,country,pop, latitude, longitude)\n",
    "                    #print(citytemp.name)\n",
    "                    if len(cities) < (numcities - 10):\n",
    "                        cities.append(citytemp)\n",
    "                    else:\n",
    "                        break\n",
    "            #print(cities)\n",
    "            return cities\n",
    "\n",
    "def gcd(alat, alon, blat, blon):\n",
    "    lat1 = np.radians(alat)\n",
    "    lat2 = np.radians(blat)\n",
    "    lon1 = np.radians(alon)\n",
    "    lon2 = np.radians(blon)\n",
    "\n",
    "    dlon = lon2 - lon1 \n",
    "    dlat = lat2 - lat1 \n",
    "\n",
    "    hav = (np.sin(dlat/2))**2 + np.cos(lat1) * np.cos(lat2) * (np.sin(dlon/2))**2 \n",
    "    c = 2 * np.arctan2( np.sqrt(hav), np.sqrt(1-hav) ) \n",
    "    return 6371* c \n",
    "\n",
    "def gcd_path(alat, alon, blat, blon, num):\n",
    "    lat1 = np.radians(alat)\n",
    "    lat2 = np.radians(blat)\n",
    "    lon1 = np.radians(alon)\n",
    "    lon2 = np.radians(blon)\n",
    "\n",
    "    d=gcd(alat, alon, blat, blon)\n",
    "    f= np.linspace(0, 1, num)\n",
    "\n",
    "    delta = d / 6371\n",
    "    alpha = np.sin((1-f)*delta) / np.sin(delta)\n",
    "    beta = np.sin(f*delta) / np.sin(delta)\n",
    "\n",
    "    x = alpha * np.cos(lat1) * np.cos(lon1) + beta * np.cos(lat2) * np.cos(lon2)\n",
    "    y = alpha * np.cos(lat1) * np.sin(lon1) + beta * np.cos(lat2) * np.sin(lon2)\n",
    "    z = alpha * np.sin(lat1) + beta * np.sin(lat2)\n",
    "\n",
    "    newlats = (np.arctan2(z, np.sqrt(x**2 + y**2)))\n",
    "    newlons = (np.arctan2(y, x))\n",
    "    return np.degrees(newlats), (np.degrees(newlons) +540)%360 -180\n",
    "            "
   ]
  },
  {
   "cell_type": "code",
   "execution_count": null,
   "metadata": {},
   "outputs": [],
   "source": [
    "\n",
    "    "
   ]
  },
  {
   "cell_type": "code",
   "execution_count": 95,
   "metadata": {
    "scrolled": true
   },
   "outputs": [
    {
     "name": "stdout",
     "output_type": "stream",
     "text": [
      "30\n",
      "Ghazni Lezhe\n",
      "4328.431261264632\n"
     ]
    }
   ],
   "source": [
    "test = citysampling(40)\n",
    "print(len(test))\n",
    "\n",
    "testdist = gcd(test[0].lat, test[0].lon, test[1].lat, test[1].lon)\n",
    "print(test[0].name, test[1].name)\n",
    "print(testdist)"
   ]
  },
  {
   "cell_type": "code",
   "execution_count": null,
   "metadata": {},
   "outputs": [],
   "source": []
  },
  {
   "cell_type": "code",
   "execution_count": null,
   "metadata": {},
   "outputs": [],
   "source": []
  },
  {
   "cell_type": "code",
   "execution_count": null,
   "metadata": {},
   "outputs": [],
   "source": []
  }
 ],
 "metadata": {
  "kernelspec": {
   "display_name": "Python 3",
   "language": "python",
   "name": "python3"
  },
  "language_info": {
   "codemirror_mode": {
    "name": "ipython",
    "version": 3
   },
   "file_extension": ".py",
   "mimetype": "text/x-python",
   "name": "python",
   "nbconvert_exporter": "python",
   "pygments_lexer": "ipython3",
   "version": "3.6.5"
  }
 },
 "nbformat": 4,
 "nbformat_minor": 2
}
