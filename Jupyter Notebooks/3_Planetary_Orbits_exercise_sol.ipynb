{
 "cells": [
  {
   "cell_type": "markdown",
   "metadata": {},
   "source": [
    "## 3. Planetary orbits\n",
    "\n",
    "The gravitational force felt by an object (planet, satellite, star, etc.) of mass $m_1$ at position $r_1$  due to another of mass $m_2$ at $r_2$ is given by\n",
    "\n",
    "$$\\mathbf{F} = - \\frac{G m_1 m_2}{|\\mathbf{r_1} - \\mathbf{r_2}|^3} \\mathbf{r}$$\n",
    "\n",
    "The equations of motion for the first object can then be written:\n",
    "\n",
    "$$ \\frac{\\mathrm{d}^2 x_1}{\\mathrm{d} t^2} = - \\frac{G m_2}{|\\mathbf{r_1} - \\mathbf{r_2}|^3} x_1 $$\n",
    "$$ \\frac{\\mathrm{d}^2 y_1}{\\mathrm{d} t^2} = - \\frac{G m_2}{|\\mathbf{r_1} - \\mathbf{r_2}|^3} y_1 $$\n",
    "\n",
    "In what follows, we will express time in years, distances in AU (astronomical unit $\\sim$ Earth-Sun distance), masses in terms of the solar mass ($M_S$) and use $G \\approx 4 \\pi^2$ to simplify calculations.\n",
    "\n",
    "\n",
    "Revisit the ODE notebook from Lecture 6 -- here we examined how a 2nd order differential equation (the harmonic oscillator) could be solved using scipy.integration.odeint by splitting it into two coupled first order equations.\n",
    "\n",
    "Use this as a basis to solve the differential equations above."
   ]
  },
  {
   "cell_type": "markdown",
   "metadata": {},
   "source": [
    "### Exercise 1\n",
    "For the first case, we look at the case of the earth and the sun.\n",
    "\n",
    "Take $m_1 = 3\\times10^{-6}$ and $m_2 =1.0$.\n",
    "\n",
    "Further assume that the sun remains fixed at the origin -- i.e. $\\mathbf{r_2}(t) = \\mathbf{0}$.\n",
    "\n",
    "Use initial conditions $\\mathbf{r}(t=0) = (1,0)$ and $\\mathbf{v}(t=0) = (0, 2\\pi)$.\n",
    "\n",
    "\n",
    "a) Write the system of 4 coupled differential equations describing the system.\n",
    "\n",
    "b) Write a function evaluating each of the first derivative terms, and which can be passed to odeint to integration this system of ODEs.\n",
    "\n",
    "c) Calculate the orbit trajectory by integrating the system of ODEs with a suitable time step.\n",
    "\n",
    "d) Plot and compare a few orbit with different initial velocities\n",
    "\n"
   ]
  },
  {
   "cell_type": "markdown",
   "metadata": {},
   "source": [
    "_answer to a)_\n",
    "\n",
    "$$ \\frac{\\mathrm{d} x_1}{\\mathrm{d} t} (t)= v_{x1} (t) $$\n",
    "\n",
    "$$ \\frac{\\mathrm{d} y_1}{\\mathrm{d} t} (t) = v_{y1} (t) $$\n",
    "\n",
    "$$ \\frac{\\mathrm{d} v_{x1}}{\\mathrm{d} t} (t) = - \\frac{G m_2}{|\\mathbf{r_1} - \\mathbf{r_2}|^3} x_1 (t)  $$\n",
    "\n",
    "$$ \\frac{\\mathrm{d} v_{y1}}{\\mathrm{d} t} (t) = - \\frac{G m_2}{|\\mathbf{r_1} - \\mathbf{r_2}|^3} y_1 (t) $$\n"
   ]
  },
  {
   "cell_type": "code",
   "execution_count": 1,
   "metadata": {},
   "outputs": [],
   "source": [
    "import numpy as np\n",
    "import matplotlib.pyplot as plt\n",
    "from scipy.integrate import odeint"
   ]
  },
  {
   "cell_type": "code",
   "execution_count": 2,
   "metadata": {},
   "outputs": [],
   "source": [
    "# y contains (x1, y1, vx1, vy1)\n",
    "\n",
    "def dydt(y, t, m2):\n",
    "    output = np.zeros_like(y)\n",
    "    output[0]=y[2]\n",
    "    output[1]=y[3]\n",
    "    output[2]= - 4*np.pi**2 *m2 * y[0] / (np.sqrt(y[0]**2 + y[1]**2))**3\n",
    "    output[3]= - 4*np.pi**2 *m2 * y[1] / (np.sqrt(y[0]**2 + y[1]**2))**3\n",
    "    return output         "
   ]
  },
  {
   "cell_type": "code",
   "execution_count": null,
   "metadata": {},
   "outputs": [],
   "source": []
  },
  {
   "cell_type": "code",
   "execution_count": 3,
   "metadata": {},
   "outputs": [],
   "source": [
    "y0 = np.array((1, 0, 0*np.pi, 2.0*np.pi))                   \n",
    "t=np.linspace(0,50,5000)\n",
    "earthdata = odeint(dydt, y0, t, args=(1.0,)).T   "
   ]
  },
  {
   "cell_type": "code",
   "execution_count": 4,
   "metadata": {},
   "outputs": [],
   "source": [
    "otherstarting = [0.75, 1.0, 2.5, 3.0]\n",
    "otherdata = []\n",
    "\n",
    "for const in otherstarting:\n",
    "    y0a = np.array((1, 0, 0*np.pi, const*np.pi)) \n",
    "    temp = odeint(dydt, y0a, t, args=(1.0,)).T\n",
    "    otherdata.append(temp)"
   ]
  },
  {
   "cell_type": "code",
   "execution_count": 5,
   "metadata": {},
   "outputs": [
    {
     "data": {
      "image/png": "[encoded data removed]",
      "text/plain": [
       "<Figure size 432x432 with 1 Axes>"
      ]
     },
     "metadata": {},
     "output_type": "display_data"
    }
   ],
   "source": [
    "fig, ax = plt.subplots(figsize=(6,6))\n",
    "ax.set_aspect('equal')\n",
    "ax.plot(0, 0, 'o', ms=10, color='orange')\n",
    "ax.plot(earthdata[0], earthdata[1], label=\"Earth orbit\")\n",
    "\n",
    "for i, const in enumerate(otherstarting):\n",
    "    ax.plot(otherdata[i][0], otherdata[i][1], label='v_0='+str(const)+r'$\\pi$')\n",
    "ax.set_xlim(-4.5, 3.5)\n",
    "ax.set_ylim(-3.5, 3.5)\n",
    "ax.legend()\n",
    "plt.show()"
   ]
  },
  {
   "cell_type": "code",
   "execution_count": null,
   "metadata": {},
   "outputs": [],
   "source": []
  }
 ],
 "metadata": {
  "kernelspec": {
   "display_name": "Python 3",
   "language": "python",
   "name": "python3"
  },
  "language_info": {
   "codemirror_mode": {
    "name": "ipython",
    "version": 3
   },
   "file_extension": ".py",
   "mimetype": "text/x-python",
   "name": "python",
   "nbconvert_exporter": "python",
   "pygments_lexer": "ipython3",
   "version": "3.6.5"
  }
 },
 "nbformat": 4,
 "nbformat_minor": 2
}
