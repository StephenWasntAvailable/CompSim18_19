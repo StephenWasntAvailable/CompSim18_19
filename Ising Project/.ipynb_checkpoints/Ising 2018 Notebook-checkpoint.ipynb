{
 "cells": [
  {
   "cell_type": "markdown",
   "metadata": {},
   "source": [
    "Importing things that might be needed"
   ]
  },
  {
   "cell_type": "code",
   "execution_count": null,
   "metadata": {},
   "outputs": [],
   "source": [
    "%matplotlib notebook\n",
    "from Ising2018 import IsingSimple\n",
    "import numpy as np\n",
    "import matplotlib.pyplot as plt\n",
    "import random\n",
    "import time\n"
   ]
  },
  {
   "cell_type": "markdown",
   "metadata": {},
   "source": [
    "Creating a lattice, evolving it to equilibrium, and then evolving it at equilbirium for 500 sweeps\n",
    "Generates plots of initial lattice, lattice at equil, and lattice after 500 sweeps at equil"
   ]
  },
  {
   "cell_type": "code",
   "execution_count": null,
   "metadata": {},
   "outputs": [],
   "source": [
    "testlattice = IsingSimple([1.0,-1.0], [35, 2.0, 0.0, 1.0, 0], 0, 0, [0, 0, 0, 0, 0])\n",
    "testlattice.lattice_grid()\n",
    "testlattice.to_equilibrium()\n",
    "print(testlattice.observables[0])\n",
    "testlattice.lattice_grid()\n",
    "testlattice.equilibrium_evolution(500)\n",
    "print(testlattice.observables[0])\n",
    "testlattice.lattice_grid()"
   ]
  },
  {
   "cell_type": "markdown",
   "metadata": {},
   "source": [
    "Creating plots of energy and magnetisation"
   ]
  },
  {
   "cell_type": "code",
   "execution_count": null,
   "metadata": {},
   "outputs": [],
   "source": [
    "M = testlattice.netmag_per_site\n",
    "E = testlattice.energy_per_site\n",
    "t = np.arange(1, (len(M)+1), 1)\n",
    "fig, ax = plt.subplots(1, 2, figsize =(9,4))\n",
    "ax[0].plot(t, M, 'r')\n",
    "ax[0].set_xlabel('Time')\n",
    "ax[0].set_ylabel('Net Magnetisation per Site')\n",
    "ax[1].plot(t, E, 'r')\n",
    "ax[1].set_xlabel('Time')\n",
    "ax[1].set_ylabel('Energy per Site')\n",
    "fig.subplots_adjust(wspace = 0.5)\n",
    "fig.patch.set_facecolor('white')\n",
    "fig.show()"
   ]
  },
  {
   "cell_type": "markdown",
   "metadata": {},
   "source": [
    "Updating equilibrium parameters example"
   ]
  },
  {
   "cell_type": "code",
   "execution_count": null,
   "metadata": {},
   "outputs": [],
   "source": [
    "testlattice.update_equil_params(500, 6, 3)"
   ]
  },
  {
   "cell_type": "markdown",
   "metadata": {},
   "source": [
    "Updating constants example"
   ]
  },
  {
   "cell_type": "code",
   "execution_count": null,
   "metadata": {},
   "outputs": [],
   "source": [
    "testlattice.update_constants(2.2, 1.0, -1.0)"
   ]
  },
  {
   "cell_type": "markdown",
   "metadata": {},
   "source": [
    "Measurring observables while changing temperature in small steps\n",
    "General warning that this can take a very long time, would suggest lowering the equilibrium evolution number as well as equilbirium parameters to allow it to finish faster"
   ]
  },
  {
   "cell_type": "code",
   "execution_count": null,
   "metadata": {},
   "outputs": [],
   "source": [
    "Trange = np.linspace(2.0, 2.4, 35)\n",
    "Mvalues = []\n",
    "Evalues = []\n",
    "Xvalues = []\n",
    "Cvalues = []\n",
    "for k in range(0, len(Trange)):\n",
    "    testlattice.update_constants(Trange[k], 0, 1.0)\n",
    "    testlattice.to_equilibrium()\n",
    "    testlattice.equilibrium_evolution(100)\n",
    "    M = testlattice.netmag_per_site\n",
    "    E = testlattice.energy_per_site\n",
    "    avM = np.average(M)\n",
    "    avE = np.average(E)\n",
    "    avsqM = np.average(testlattice.netmag_sq_per_site)\n",
    "    avMsq = np.multiply(np.average(M), np.average(M))\n",
    "    X = (np.subtract(avsqM, avMsq)) / testlattice.constants[1]\n",
    "    avsqE = np.average(testlattice.energy_sq_per_site)\n",
    "    avEsq = np.multiply(np.average(E), np.average(E))\n",
    "    C = (np.subtract(avsqE, avEsq)) / (testlattice.constants[1] ** 2)\n",
    "    Mvalues.append(avM)\n",
    "    Evalues.append(avE)\n",
    "    Xvalues.append(X)\n",
    "    Cvalues.append(C)"
   ]
  },
  {
   "cell_type": "code",
   "execution_count": null,
   "metadata": {},
   "outputs": [],
   "source": [
    "\n",
    "fig, ax = plt.subplots(2, 2, figsize = (10, 10))\n",
    "ax = ax.ravel()\n",
    "ax[0].plot(Trange, Mvalues, 'r.')\n",
    "ax[0].set_xlabel('Temperature')\n",
    "ax[0].set_ylabel('Average Net Magnetisation per Site')\n",
    "ax[0].set_title('Figure 1')\n",
    "ax[1].plot(Trange, Evalues, 'r.')\n",
    "ax[1].set_xlabel('Temperature')\n",
    "ax[1].set_ylabel('Average Energy per Site')\n",
    "ax[1].set_title('Figure 2')\n",
    "ax[2].plot(Trange, Cvalues, 'r.')\n",
    "ax[2].set_xlabel('Temperature')\n",
    "ax[2].set_ylabel('Heat Capacity')\n",
    "ax[2].set_title('Figure 3')\n",
    "ax[3].plot(Trange, Xvalues, 'r.')\n",
    "ax[3].set_xlabel('Temperature')\n",
    "ax[3].set_ylabel('Magnetic Susceptibility')\n",
    "ax[3].set_title('Figure 4')\n",
    "fig.subplots_adjust(wspace = 0.5)\n",
    "fig.patch.set_facecolor('white')"
   ]
  },
  {
   "cell_type": "code",
   "execution_count": null,
   "metadata": {},
   "outputs": [],
   "source": []
  },
  {
   "cell_type": "markdown",
   "metadata": {},
   "source": [
    "Generating data for investigation the potential for hysteresis\n",
    "General warning that this can take a very long time, would suggest lowering the equilibrium evolution number as well as equilbirium parameters to allow it to finish faster"
   ]
  },
  {
   "cell_type": "code",
   "execution_count": null,
   "metadata": {},
   "outputs": [],
   "source": [
    "Hrange1 = np.linspace(0, 1.0, 10, endpoint=False)\n",
    "Hrange2 = np.linspace(1.0, -1.0, 20, endpoint=False)\n",
    "Hrange3 = np.linspace(-1.0, 1.0, 21)\n",
    "Hrange = np.append(Hrange1, Hrange2)\n",
    "Hrange = np.append(Hrange, Hrange3)\n",
    "Mvalues2 = []\n",
    "for k in range(0, len(Hrange)):\n",
    "    testlattice.update_constants(2.2, Hrange[k], 1.0)\n",
    "    testlattice.to_equilibrium()\n",
    "    testlattice.equilibrium_evolution(300)\n",
    "    M2 = testlattice.netmag_per_site\n",
    "    avM = np.average(M2)\n",
    "    Mvalues2.append(avM)"
   ]
  },
  {
   "cell_type": "code",
   "execution_count": null,
   "metadata": {},
   "outputs": [],
   "source": [
    "\n",
    "plt.plot(Hrange, Mvalues2, 'k')\n",
    "plt.plot(Hrange, Mvalues2, 'r.')\n",
    "plt.show()\n",
    "\n",
    "fig, ax = plt.subplots(1, 1, figsize = (5, 5))\n",
    "ax.plotplot(Hrange, Mvalues2, 'k')\n",
    "ax.plot(Hrange, Mvalues2, 'r.')\n",
    "ax.set_xlabel('Temperature')\n",
    "ax.set_ylabel('Average Net Magnetisation per Site')\n",
    "ax.set_title('Figure 1')\n",
    "fig.patch.set_facecolor('white')"
   ]
  },
  {
   "cell_type": "code",
   "execution_count": null,
   "metadata": {},
   "outputs": [],
   "source": []
  },
  {
   "cell_type": "code",
   "execution_count": null,
   "metadata": {},
   "outputs": [],
   "source": []
  },
  {
   "cell_type": "code",
   "execution_count": null,
   "metadata": {},
   "outputs": [],
   "source": []
  }
 ],
 "metadata": {
  "kernelspec": {
   "display_name": "Python 3",
   "language": "python",
   "name": "python3"
  },
  "language_info": {
   "codemirror_mode": {
    "name": "ipython",
    "version": 3
   },
   "file_extension": ".py",
   "mimetype": "text/x-python",
   "name": "python",
   "nbconvert_exporter": "python",
   "pygments_lexer": "ipython3",
   "version": "3.6.5"
  }
 },
 "nbformat": 4,
 "nbformat_minor": 2
}
